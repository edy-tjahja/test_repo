{
 "cells": [
  {
   "cell_type": "markdown",
   "metadata": {},
   "source": [
    "<center>\n",
    "    <img src=\"https://s3-api.us-geo.objectstorage.softlayer.net/cf-courses-data/CognitiveClass/Logos/organization_logo/organization_logo.png\" width=\"300\" alt=\"cognitiveclass.ai logo\"  />\n",
    "</center>\n"
   ]
  },
  {
   "cell_type": "markdown",
   "metadata": {},
   "source": [
    "#### Add your code below following the instructions given in the course\n"
   ]
  },
  {
   "cell_type": "markdown",
   "metadata": {
    "jupyter": {
     "source_hidden": true
    },
    "tags": []
   },
   "source": [
    "# My Jupyter Notebook on IBM Watson Studio"
   ]
  },
  {
   "cell_type": "markdown",
   "metadata": {},
   "source": [
    "My Name **Edy**\n",
    "I am a Senior Developer"
   ]
  },
  {
   "cell_type": "markdown",
   "metadata": {},
   "source": [
    "*I am interested in Data Science because it is very new things that I have never learned and I am very interested in learning knowledge that will increase my ability*"
   ]
  },
  {
   "cell_type": "markdown",
   "metadata": {},
   "source": [
    "### The following displays the value of the variable x"
   ]
  },
  {
   "cell_type": "code",
   "execution_count": 1,
   "metadata": {},
   "outputs": [
    {
     "name": "stdout",
     "output_type": "stream",
     "text": [
      "1\n",
      "2\n",
      "3\n",
      "4\n",
      "5\n",
      "6\n",
      "7\n",
      "8\n",
      "9\n",
      "10\n"
     ]
    }
   ],
   "source": [
    "x = 0\n",
    "\n",
    "for x in range(10):\n",
    "    x = x + 1\n",
    "    print (x)"
   ]
  },
  {
   "cell_type": "markdown",
   "metadata": {},
   "source": [
    "***\n",
    "\n",
    "<a href=\"http://www.coursera.org\">Click this link to Coursera.org</a>\n",
    "\n",
    "* Course\n",
    "* Online Degree\n",
    "* Specialization\n",
    "* Profesional Certicate\n",
    "* Carrier\n",
    " \n",
    "***"
   ]
  },
  {
   "cell_type": "raw",
   "metadata": {},
   "source": [
    "My code:\n",
    "--------\n",
    "\n",
    "# My Jupyter Notebook on IBM Watson Studio\n",
    "\n",
    "**Edy**\n",
    "I am a Senior Developer\n",
    "\n",
    "*I am interested in Data Science because it is very new things that I have never learned and I am very interested in learning knowledge that will increase my ability*\n",
    "\n",
    "### The following displays the value of the variable x\n",
    "\n",
    "x = 0\n",
    "\n",
    "for x in range(10):\n",
    "    x = x + 1\n",
    "    print (x)\n",
    "\n",
    "\n",
    "***\n",
    "\n",
    "<a href=\"http://www.coursera.org\">Click this link to Coursera.org</a>\n",
    "\n",
    "* Course\n",
    "* Online Degree\n",
    "* Specialization\n",
    "* Profesional Certicate\n",
    "* Carrier\n",
    " \n",
    "***"
   ]
  }
 ],
 "metadata": {
  "kernelspec": {
   "display_name": "Python",
   "language": "python",
   "name": "conda-env-python-py"
  },
  "language_info": {
   "codemirror_mode": {
    "name": "ipython",
    "version": 3
   },
   "file_extension": ".py",
   "mimetype": "text/x-python",
   "name": "python",
   "nbconvert_exporter": "python",
   "pygments_lexer": "ipython3",
   "version": "3.7.12"
  }
 },
 "nbformat": 4,
 "nbformat_minor": 4
}
